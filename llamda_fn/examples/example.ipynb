{
 "cells": [
  {
   "cell_type": "code",
   "execution_count": 1,
   "metadata": {},
   "outputs": [
    {
     "name": "stdout",
     "output_type": "stream",
     "text": [
      "\u001b[34mInstalling dependencies from lock file\u001b[39m\n",
      "\n",
      "No dependencies to install or update\n",
      "\n",
      "\u001b[39;1mInstalling\u001b[39;22m the current project: \u001b[36mllamda-fn\u001b[39m (\u001b[39;1m0.1.0\u001b[39;22m)\u001b[1G\u001b[2K\u001b[39;1mInstalling\u001b[39;22m the current project: \u001b[36mllamda-fn\u001b[39m (\u001b[32m0.1.0\u001b[39m)\n"
     ]
    }
   ],
   "source": [
    "!poetry install\n",
    "from llamda_fn import Llamda\n",
    "from llamda_fn.examples.functions import aq_multiple\n",
    "\n",
    "llamda = Llamda()"
   ]
  },
  {
   "cell_type": "code",
   "execution_count": 2,
   "metadata": {},
   "outputs": [
    {
     "data": {
      "text/plain": [
       "<function llamda_fn.functions.llamda_functions.LlamdaFunctions.llamdafy.<locals>.decorator(func: Callable[~P, ~R]) -> Union[llamda_fn.functions.llamda_classes.LlamdaFunction[TypeVar], llamda_fn.functions.llamda_classes.LlamdaPydantic[TypeVar]]>"
      ]
     },
     "execution_count": 2,
     "metadata": {},
     "output_type": "execute_result"
    }
   ],
   "source": [
    "llamda.llamdafy(aq_multiple)\n",
    "\n",
    "#llamda.run([{\"role\": \"system\", \"content\": \"You are a cabalistic assistant who is eager to help user find weird numerical correspondences\"}, { \"role\": \"user\", \"content\": \"What are some interesting AQ cabalistic correspondences beteween openai and anthropic? You can try several words\" }])"
   ]
  },
  {
   "cell_type": "code",
   "execution_count": 3,
   "metadata": {},
   "outputs": [
    {
     "name": "stdout",
     "output_type": "stream",
     "text": [
      "{}\n"
     ]
    }
   ],
   "source": [
    "print(llamda.llamda_functions.tools)\n"
   ]
  }
 ],
 "metadata": {
  "kernelspec": {
   "display_name": "llamda-T-M8I_mI-py3.12",
   "language": "python",
   "name": "python3"
  },
  "language_info": {
   "codemirror_mode": {
    "name": "ipython",
    "version": 3
   },
   "file_extension": ".py",
   "mimetype": "text/x-python",
   "name": "python",
   "nbconvert_exporter": "python",
   "pygments_lexer": "ipython3",
   "version": "3.12.4"
  }
 },
 "nbformat": 4,
 "nbformat_minor": 2
}
