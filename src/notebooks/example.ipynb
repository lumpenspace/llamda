{
 "cells": [
  {
   "cell_type": "markdown",
   "metadata": {},
   "source": [
    "  ¬describe the decorator use from @llamdafy\n",
    "  "
   ]
  },
  {
   "cell_type": "code",
   "execution_count": 9,
   "metadata": {},
   "outputs": [
    {
     "name": "stdout",
     "output_type": "stream",
     "text": [
      "The following packages are already present in the pyproject.toml and will be skipped:\n",
      "\n",
      "  • \u001b[36mprompt-toolkit\u001b[39m\n",
      "\n",
      "If you want to update it to the latest compatible version, you can use `poetry update package`.\n",
      "If you prefer to upgrade it to the latest available version, you can use `poetry add package@latest`.\n",
      "\n",
      "Nothing to add.\n",
      "\u001b[34mInstalling dependencies from lock file\u001b[39m\n",
      "\n",
      "No dependencies to install or update\n",
      "\n",
      "\u001b[39;1mInstalling\u001b[39;22m the current project: \u001b[36mllamda\u001b[39m (\u001b[39;1m0.1.0\u001b[39;22m)\u001b[1G\u001b[2K\u001b[39;1mInstalling\u001b[39;22m the current project: \u001b[36mllamda\u001b[39m (\u001b[32m0.1.0\u001b[39m)\n"
     ]
    }
   ],
   "source": [
    "!poetry add prompt-toolkit\n",
    "!poetry install\n",
    "from llamda import llamdafy\n",
    "from typing import Tuple\n",
    "from prompt_toolkit import print_formatted_text"
   ]
  },
  {
   "cell_type": "markdown",
   "metadata": {},
   "source": []
  },
  {
   "cell_type": "markdown",
   "metadata": {},
   "source": [
    "# 1. `@llamdafy`: simple function decorator\n",
    "\n",
    "Function calling apis require that, for each function, the following be provided:\n",
    "\n",
    "1. The function name\n",
    "2. The function description\n",
    "3. The function parameters\n",
    "4. The function return type\n",
    "\n",
    "`@llamdafy` aims to take most of this information from the function itelf, and provide a simple way to define the rest."
   ]
  },
  {
   "cell_type": "code",
   "execution_count": 11,
   "metadata": {},
   "outputs": [
    {
     "name": "stdout",
     "output_type": "stream",
     "text": [
      "location location: str\n",
      "{\n",
      "  \"name\": \"get_weather\",\n",
      "  \"description\": \"Retrieve the weather information for a given location.\",\n",
      "  \"parameters\": {\n",
      "    \"type\": \"object\",\n",
      "    \"properties\": {\n",
      "      \"location\": {\n",
      "        \"type\": null,\n",
      "        \"description\": \"The location for which to retrieve the weather information.\"\n",
      "      }\n",
      "    },\n",
      "    \"required\": [\n",
      "      \"location\"\n",
      "    ]\n",
      "  }\n",
      "}\n"
     ]
    }
   ],
   "source": [
    "# Here it is used without any params, and the function signature is used to infer the rest:\n",
    "\n",
    "from typing import TypedDict\n",
    "import json\n",
    "\n",
    "class Weather(TypedDict):\n",
    "    location: str\n",
    "    temperature: str\n",
    "    condition: str\n",
    "\n",
    "@llamdafy\n",
    "def get_weather(location: str) -> Weather:\n",
    "    \"\"\"\n",
    "    Retrieve the weather information for a given location.\n",
    "\n",
    "    @param location: The location for which to retrieve the weather information.\n",
    "    @return: The weather forecast as a dictionary.\n",
    "    \"\"\"\n",
    "    return {\"location\": location, \"temperature\": \"22°C\", \"condition\": \"Sunny\"}\n",
    "\n",
    "print(json.dumps(get_weather.to_schema(), indent=2))\n"
   ]
  },
  {
   "cell_type": "code",
   "execution_count": 3,
   "metadata": {},
   "outputs": [],
   "source": [
    "#Here it is used with some params, and the function signature is used to infer the rest:\n",
    "\n",
    "@llamdafy(\n",
    "    main=\"Fetches upcoming events based on the given parameters.\",\n",
    "    location= \"The location for which to retrieve the events, as a tuple of latitude and longitude.\",\n",
    "    date= \"The date for which to retrieve the events.\"\n",
    ")\n",
    "def getEvents(location: Tuple[float, float], date: int) -> list:\n",
    "    return [{\"name\": \"Tech Conference\", \"location\": location, \"date\": date},\n",
    "            {\"name\": \"Music Festival\", \"location\": location, \"date\": date}]"
   ]
  },
  {
   "cell_type": "code",
   "execution_count": 4,
   "metadata": {},
   "outputs": [
    {
     "ename": "AttributeError",
     "evalue": "'LlamdaFunction' object has no attribute 'get_schema'",
     "output_type": "error",
     "traceback": [
      "\u001b[0;31m---------------------------------------------------------------------------\u001b[0m",
      "\u001b[0;31mAttributeError\u001b[0m                            Traceback (most recent call last)",
      "Cell \u001b[0;32mIn[4], line 3\u001b[0m\n\u001b[1;32m      1\u001b[0m \u001b[38;5;28;01mfrom\u001b[39;00m \u001b[38;5;21;01mprompt_toolkit\u001b[39;00m \u001b[38;5;28;01mimport\u001b[39;00m print_formatted_text\n\u001b[0;32m----> 3\u001b[0m \u001b[38;5;28mprint\u001b[39m(\u001b[43mget_weather\u001b[49m\u001b[38;5;241;43m.\u001b[39;49m\u001b[43mget_schema\u001b[49m(), getEvents\u001b[38;5;241m.\u001b[39mget_schema())\n",
      "\u001b[0;31mAttributeError\u001b[0m: 'LlamdaFunction' object has no attribute 'get_schema'"
     ]
    }
   ],
   "source": [
    "from prompt_toolkit import print_formatted_text\n",
    "\n",
    "print(get_weather.get_schema(), getEvents.get_schema())"
   ]
  }
 ],
 "metadata": {
  "kernelspec": {
   "display_name": "claudiobrandolino-iQHVvxXy",
   "language": "python",
   "name": "python3"
  },
  "language_info": {
   "codemirror_mode": {
    "name": "ipython",
    "version": 3
   },
   "file_extension": ".py",
   "mimetype": "text/x-python",
   "name": "python",
   "nbconvert_exporter": "python",
   "pygments_lexer": "ipython3",
   "version": "3.11.9"
  }
 },
 "nbformat": 4,
 "nbformat_minor": 2
}
